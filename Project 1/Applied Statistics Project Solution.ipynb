{
 "cells": [
  {
   "cell_type": "markdown",
   "id": "91558d5f",
   "metadata": {},
   "source": [
    "<h3>Part 1 Q1 A</h3>\n",
    "<h4>Refer above table and find the joint probability of the people \n",
    "who planned to purchase and actually placed an order.</h4>"
   ]
  },
  {
   "cell_type": "code",
   "execution_count": 1,
   "id": "825e0551",
   "metadata": {},
   "outputs": [
    {
     "name": "stdout",
     "output_type": "stream",
     "text": [
      "Joint probability of the people who planned to purchase and actually place an order is 0.2000\n"
     ]
    }
   ],
   "source": [
    "# placed_order is the number of people who planned to purchase and actually place an order\n",
    "placed_order,total = 400,2000\n",
    "joint_probability = round(placed_order/total,4)\n",
    "print(\"Joint probability of the people who planned to purchase and actually place an order is %1.4f\" % joint_probability)"
   ]
  },
  {
   "cell_type": "markdown",
   "id": "096ff677",
   "metadata": {},
   "source": [
    "<h3>Part 1 Q1 B</h3>\n",
    "<h4>Refer to the above table and find the joint probability of the \n",
    "people who planned to purchase and actually placed an order, \n",
    "given that people planned to purchase.\n",
    "</h4>"
   ]
  },
  {
   "cell_type": "code",
   "execution_count": 2,
   "id": "e69f6bea",
   "metadata": {},
   "outputs": [
    {
     "name": "stdout",
     "output_type": "stream",
     "text": [
      "Joint probability of people who planned to purchase and actually place an order, given that people planned to purchase is 0.8000\n"
     ]
    }
   ],
   "source": [
    "#total_planned is the total number of people who planned to purchase before hand\n",
    "placed_order_2,total_planned = 400,500\n",
    "joint_probability = round(placed_order_2/total_planned,4)\n",
    "print(\"Joint probability of people who planned to purchase and actually place an order, given that people planned to purchase is %1.4f\" % joint_probability)"
   ]
  },
  {
   "cell_type": "markdown",
   "id": "9e3424f4",
   "metadata": {},
   "source": [
    "<h3>Part 1 Q2 A</h3>\n",
    "<h4>Probability that none of the items are defective?</h4>"
   ]
  },
  {
   "cell_type": "code",
   "execution_count": 3,
   "id": "928bb8e5",
   "metadata": {},
   "outputs": [
    {
     "name": "stdout",
     "output_type": "stream",
     "text": [
      "Probability that none of the items are defective is 0.5987\n"
     ]
    }
   ],
   "source": [
    "#import the neccesary binomial distribution function from scipy\n",
    "from scipy.stats import binom\n",
    "failure_rate = 0.05\n",
    "number_of_items = 10\n",
    "\n",
    "#probability that none of them are defective => P(X=0)\n",
    "defective_items = 0\n",
    "probability_0 = binom.pmf(defective_items,number_of_items,failure_rate)\n",
    "\n",
    "print(\"Probability that none of the items are defective is %1.4f\" % probability_0)\n"
   ]
  },
  {
   "cell_type": "markdown",
   "id": "959f2651",
   "metadata": {},
   "source": [
    "<h3>Part 1 Q2 B</h3>\n",
    "<h4>Probability that exactly one of the items is defective? </h4>"
   ]
  },
  {
   "cell_type": "code",
   "execution_count": 4,
   "id": "b730813b",
   "metadata": {},
   "outputs": [
    {
     "name": "stdout",
     "output_type": "stream",
     "text": [
      "Probability that exactly one of the items is defective is 0.3151\n"
     ]
    }
   ],
   "source": [
    "#probability that exactly one of the items is defective => P(X=1)\n",
    "defective_items = 1\n",
    "probability_1 = binom.pmf(defective_items,number_of_items,failure_rate)\n",
    "\n",
    "print(\"Probability that exactly one of the items is defective is %1.4f\" % probability_1)"
   ]
  },
  {
   "cell_type": "markdown",
   "id": "13a0df64",
   "metadata": {},
   "source": [
    "<h3>Part 1 Q2 (i)</h3>\n",
    "<h4>Probability that two or fewer of the items are defective? </h4>"
   ]
  },
  {
   "cell_type": "code",
   "execution_count": 5,
   "id": "5baba986",
   "metadata": {},
   "outputs": [
    {
     "name": "stdout",
     "output_type": "stream",
     "text": [
      "The probability that two or fewer items are defective is 0.9885\n"
     ]
    }
   ],
   "source": [
    "#probability that two or fewer of the items are defective =>P(X=0)+P(X=1)+P(X=2)\n",
    "defective_items = 2\n",
    "probability_2 = binom.pmf(defective_items,number_of_items,failure_rate)\n",
    "\n",
    "#after calculating probability of two defective items, we calculate total probability\n",
    "total_probability = probability_0 + probability_1 + probability_2\n",
    "\n",
    "print(\"The probability that two or fewer items are defective is %1.4f\" % total_probability)"
   ]
  },
  {
   "cell_type": "markdown",
   "id": "4f1ff878",
   "metadata": {},
   "source": [
    "<h3>Part 1 Q2 (ii)</h3>\n",
    "<h4>Probability that three or more of the items are defective? </h4>"
   ]
  },
  {
   "cell_type": "code",
   "execution_count": 6,
   "id": "09e93c58",
   "metadata": {},
   "outputs": [
    {
     "name": "stdout",
     "output_type": "stream",
     "text": [
      "The probability that three or more of the items are defective is 0.0010\n"
     ]
    }
   ],
   "source": [
    "#probability that three or more of the items are defective =>1-(P(X=0)+P(X=1)+P(X=2)+P(X=3))\n",
    "defective_items = 3\n",
    "probability_3 = binom.pmf(defective_items,number_of_items,failure_rate)\n",
    "\n",
    "#we now calculate the total probability of three or more items being defective\n",
    "total_probability = 1 - (probability_0 + probability_1 + probability_2 + probability_3)\n",
    "\n",
    "print(\"The probability that three or more of the items are defective is %1.4f\" % total_probability)"
   ]
  },
  {
   "cell_type": "markdown",
   "id": "2f35fdf0",
   "metadata": {},
   "source": [
    "<h3> Part 1 Q3 (i)</h3>\n",
    "<h4>What is Probability that in a given week he will sell some cars? </h4>"
   ]
  },
  {
   "cell_type": "code",
   "execution_count": 7,
   "id": "4bdaa4ea",
   "metadata": {},
   "outputs": [
    {
     "name": "stdout",
     "output_type": "stream",
     "text": [
      "Probability that in a given week he will sell some cars is 0.9502\n"
     ]
    }
   ],
   "source": [
    "# import the neccessary libraries from scipy that is the poisson function\n",
    "from scipy.stats import poisson\n",
    "\n",
    "#average of three cars per week. So lambda(mean) is 3\n",
    "mu = 3\n",
    "\n",
    "#probability that he will some cars is P(x>0)=1-P(X=0)\n",
    "probability_0 = poisson.pmf(0,mu)\n",
    "total_probability = 1 - probability_0\n",
    "\n",
    "print(\"Probability that in a given week he will sell some cars is %1.4f\" %total_probability)"
   ]
  },
  {
   "cell_type": "markdown",
   "id": "57cb9efe",
   "metadata": {},
   "source": [
    "<h3> Part 1 Q3 (ii)</h3>\n",
    "<h4>What is Probability that in a given week he will sell 2 or more but less than 5 cars? </h4>"
   ]
  },
  {
   "cell_type": "code",
   "execution_count": 8,
   "id": "1e728d8c",
   "metadata": {},
   "outputs": [
    {
     "name": "stdout",
     "output_type": "stream",
     "text": [
      "Probability that in a given week he will sell 2 or more but less than 5 cars is 0.6161\n"
     ]
    }
   ],
   "source": [
    "#probability that he will sell two or more but less than five is P(2<=X<5)=P(X=2)+P(X=3)+P(X=4)\n",
    "probability_2 = poisson.pmf(2,mu)\n",
    "probability_3 = poisson.pmf(3,mu)\n",
    "probability_4 = poisson.pmf(4,mu)\n",
    "total_probability = probability_2 + probability_3 + probability_4\n",
    "\n",
    "print(\"Probability that in a given week he will sell 2 or more but less than 5 cars is %1.4f\" %total_probability)"
   ]
  },
  {
   "cell_type": "markdown",
   "id": "25eddd30",
   "metadata": {},
   "source": [
    "<h3>Part 1 Q3 (iii) </h3>\n",
    "<h4>Plot the Poisson distribution function for cumulative probability \n",
    "of cars sold per-week vs number of cars sold per week</h4>"
   ]
  },
  {
   "cell_type": "code",
   "execution_count": 9,
   "id": "20199549",
   "metadata": {},
   "outputs": [
    {
     "data": {
      "image/png": "[encoded data removed]",
      "text/plain": [
       "<Figure size 640x480 with 1 Axes>"
      ]
     },
     "metadata": {},
     "output_type": "display_data"
    }
   ],
   "source": [
    "import matplotlib.pyplot as plt\n",
    "import numpy as np\n",
    "\n",
    "number_of_cars = np.arange(0,12)\n",
    "prob = poisson.pmf(number_of_cars,mu)\n",
    "plt.bar(number_of_cars,prob)\n",
    "plt.title(\"Poisson Distribution Mean = 3\")\n",
    "plt.xlabel(\"Number of cars sold per week\")\n",
    "plt.ylabel(\"Probability\")\n",
    "plt.show()"
   ]
  },
  {
   "cell_type": "markdown",
   "id": "5c53aa92",
   "metadata": {},
   "source": [
    "<h3>Part 1 Q4 (i)</h3>\n",
    "<h4>What is the probability that all three orders will be recognized correctly?</h4>"
   ]
  },
  {
   "cell_type": "code",
   "execution_count": 10,
   "id": "c01418bc",
   "metadata": {},
   "outputs": [
    {
     "name": "stdout",
     "output_type": "stream",
     "text": [
      "Probability that all three orders will be recognized is 0.6540\n"
     ]
    }
   ],
   "source": [
    "recognition_accuracy = 0.868\n",
    "\n",
    "#probability is recognition accuracy as a binomial distribution where n=3 and p = recognition_accuracy\n",
    "probability_3 = binom.pmf(3,3,recognition_accuracy)\n",
    "\n",
    "print(\"Probability that all three orders will be recognized is %1.4f\" % probability_3)"
   ]
  },
  {
   "cell_type": "markdown",
   "id": "ae70da55",
   "metadata": {},
   "source": [
    "<h3>Part 1 Q4 (ii)</h3>\n",
    "<h4>What is the probability that none of the three orders will be recognized correctly?</h4>"
   ]
  },
  {
   "cell_type": "code",
   "execution_count": 11,
   "id": "5cea165a",
   "metadata": {},
   "outputs": [
    {
     "name": "stdout",
     "output_type": "stream",
     "text": [
      "Probability that none of the three orders will be recognized is 0.0023\n"
     ]
    }
   ],
   "source": [
    "#probability that an order is not recognized => 1- recognition_accuracy\n",
    "recognition_failure = 1 - recognition_accuracy\n",
    "\n",
    "probability = binom.pmf(3,3,recognition_failure)\n",
    "\n",
    "print(\"Probability that none of the three orders will be recognized is %1.4f\" %probability)"
   ]
  },
  {
   "cell_type": "markdown",
   "id": "814af05f",
   "metadata": {},
   "source": [
    "<h3>Part 1 Q4 (iii)</h3>\n",
    "<h4>What is the probability that atleast two of the three orders will be recognized correctly?</h4>"
   ]
  },
  {
   "cell_type": "code",
   "execution_count": 12,
   "id": "e5f76cf2",
   "metadata": {},
   "outputs": [
    {
     "name": "stdout",
     "output_type": "stream",
     "text": [
      "Probability that atleast two of the three orders will be recognized correctly is 0.9523\n"
     ]
    }
   ],
   "source": [
    "#probability of atleast two => P(X=2) + P(X=3)\n",
    "probability_2 = binom.pmf(2,3,recognition_accuracy)\n",
    "\n",
    "total_probability = probability_2 + probability_3\n",
    "print(\"Probability that atleast two of the three orders will be recognized correctly is %1.4f\" % total_probability)"
   ]
  },
  {
   "cell_type": "markdown",
   "id": "c97e9635",
   "metadata": {},
   "source": [
    "<h3> Part 1 Q5 </h3>\n",
    "<h4>Explain 1 real life industry scenario (other than the ones \n",
    "mentioned above) where you can use the concepts learnt in \n",
    "this module of Applied Statistics to get data driven business \n",
    "solution.</h4>"
   ]
  },
  {
   "cell_type": "markdown",
   "id": "b4f0f72f",
   "metadata": {},
   "source": [
    "Industry: Gaming\n",
    "Data driven analytics can be used to ensure players come frequently back to the game to improve sales. Capturing the essence of what makes a game fun into trend data and recognizing patterns to strengthen gameplay and overall satisfaction. We can use statistical methods to analyze online trends in data to help boost the game's performance."
   ]
  },
  {
   "cell_type": "markdown",
   "id": "d289eee8",
   "metadata": {},
   "source": [
    "<h3> Part 2 Q1 </h3>\n",
    "<h4>Read the data set, clean the data and prepare final dataset to \n",
    "be used for analysis. </h4>"
   ]
  },
  {
   "cell_type": "code",
   "execution_count": 13,
   "id": "7e2bccdb",
   "metadata": {},
   "outputs": [
    {
     "data": {
      "text/html": [
       "<div>\n",
       "<style scoped>\n",
       "    .dataframe tbody tr th:only-of-type {\n",
       "        vertical-align: middle;\n",
       "    }\n",
       "\n",
       "    .dataframe tbody tr th {\n",
       "        vertical-align: top;\n",
       "    }\n",
       "\n",
       "    .dataframe thead th {\n",
       "        text-align: right;\n",
       "    }\n",
       "</style>\n",
       "<table border=\"1\" class=\"dataframe\">\n",
       "  <thead>\n",
       "    <tr style=\"text-align: right;\">\n",
       "      <th></th>\n",
       "      <th>Team</th>\n",
       "      <th>Tournament</th>\n",
       "      <th>Score</th>\n",
       "      <th>PlayedGames</th>\n",
       "      <th>WonGames</th>\n",
       "      <th>DrawnGames</th>\n",
       "      <th>LostGames</th>\n",
       "      <th>BasketScored</th>\n",
       "      <th>BasketGiven</th>\n",
       "      <th>TournamentChampion</th>\n",
       "      <th>Runner-up</th>\n",
       "      <th>TeamLaunch</th>\n",
       "      <th>HighestPositionHeld</th>\n",
       "    </tr>\n",
       "  </thead>\n",
       "  <tbody>\n",
       "    <tr>\n",
       "      <th>0</th>\n",
       "      <td>Team 1</td>\n",
       "      <td>86</td>\n",
       "      <td>4385</td>\n",
       "      <td>2762</td>\n",
       "      <td>1647</td>\n",
       "      <td>552</td>\n",
       "      <td>563</td>\n",
       "      <td>5947</td>\n",
       "      <td>3140</td>\n",
       "      <td>33</td>\n",
       "      <td>23</td>\n",
       "      <td>1929</td>\n",
       "      <td>1</td>\n",
       "    </tr>\n",
       "    <tr>\n",
       "      <th>1</th>\n",
       "      <td>Team 2</td>\n",
       "      <td>86</td>\n",
       "      <td>4262</td>\n",
       "      <td>2762</td>\n",
       "      <td>1581</td>\n",
       "      <td>573</td>\n",
       "      <td>608</td>\n",
       "      <td>5900</td>\n",
       "      <td>3114</td>\n",
       "      <td>25</td>\n",
       "      <td>25</td>\n",
       "      <td>1929</td>\n",
       "      <td>1</td>\n",
       "    </tr>\n",
       "    <tr>\n",
       "      <th>2</th>\n",
       "      <td>Team 3</td>\n",
       "      <td>80</td>\n",
       "      <td>3442</td>\n",
       "      <td>2614</td>\n",
       "      <td>1241</td>\n",
       "      <td>598</td>\n",
       "      <td>775</td>\n",
       "      <td>4534</td>\n",
       "      <td>3309</td>\n",
       "      <td>10</td>\n",
       "      <td>8</td>\n",
       "      <td>1929</td>\n",
       "      <td>1</td>\n",
       "    </tr>\n",
       "    <tr>\n",
       "      <th>3</th>\n",
       "      <td>Team 4</td>\n",
       "      <td>82</td>\n",
       "      <td>3386</td>\n",
       "      <td>2664</td>\n",
       "      <td>1187</td>\n",
       "      <td>616</td>\n",
       "      <td>861</td>\n",
       "      <td>4398</td>\n",
       "      <td>3469</td>\n",
       "      <td>6</td>\n",
       "      <td>6</td>\n",
       "      <td>1931to32</td>\n",
       "      <td>1</td>\n",
       "    </tr>\n",
       "    <tr>\n",
       "      <th>4</th>\n",
       "      <td>Team 5</td>\n",
       "      <td>86</td>\n",
       "      <td>3368</td>\n",
       "      <td>2762</td>\n",
       "      <td>1209</td>\n",
       "      <td>633</td>\n",
       "      <td>920</td>\n",
       "      <td>4631</td>\n",
       "      <td>3700</td>\n",
       "      <td>8</td>\n",
       "      <td>7</td>\n",
       "      <td>1929</td>\n",
       "      <td>1</td>\n",
       "    </tr>\n",
       "  </tbody>\n",
       "</table>\n",
       "</div>"
      ],
      "text/plain": [
       "     Team  Tournament Score PlayedGames WonGames DrawnGames LostGames  \\\n",
       "0  Team 1          86  4385        2762     1647        552       563   \n",
       "1  Team 2          86  4262        2762     1581        573       608   \n",
       "2  Team 3          80  3442        2614     1241        598       775   \n",
       "3  Team 4          82  3386        2664     1187        616       861   \n",
       "4  Team 5          86  3368        2762     1209        633       920   \n",
       "\n",
       "  BasketScored BasketGiven TournamentChampion Runner-up TeamLaunch  \\\n",
       "0         5947        3140                 33        23       1929   \n",
       "1         5900        3114                 25        25       1929   \n",
       "2         4534        3309                 10         8       1929   \n",
       "3         4398        3469                  6         6   1931to32   \n",
       "4         4631        3700                  8         7       1929   \n",
       "\n",
       "   HighestPositionHeld  \n",
       "0                    1  \n",
       "1                    1  \n",
       "2                    1  \n",
       "3                    1  \n",
       "4                    1  "
      ]
     },
     "execution_count": 13,
     "metadata": {},
     "output_type": "execute_result"
    }
   ],
   "source": [
    "import numpy as np\n",
    "import pandas as pd\n",
    "#read the basketball teams dataset\n",
    "teams = pd.read_csv(\"DS+-+Part2+-+Basketball.csv\")\n",
    "teams.head()"
   ]
  },
  {
   "cell_type": "code",
   "execution_count": 14,
   "id": "61051565",
   "metadata": {},
   "outputs": [
    {
     "name": "stdout",
     "output_type": "stream",
     "text": [
      "<class 'pandas.core.frame.DataFrame'>\n",
      "RangeIndex: 61 entries, 0 to 60\n",
      "Data columns (total 13 columns):\n",
      " #   Column               Non-Null Count  Dtype \n",
      "---  ------               --------------  ----- \n",
      " 0   Team                 61 non-null     object\n",
      " 1   Tournament           61 non-null     int64 \n",
      " 2   Score                61 non-null     object\n",
      " 3   PlayedGames          61 non-null     object\n",
      " 4   WonGames             61 non-null     object\n",
      " 5   DrawnGames           61 non-null     object\n",
      " 6   LostGames            61 non-null     object\n",
      " 7   BasketScored         61 non-null     object\n",
      " 8   BasketGiven          61 non-null     object\n",
      " 9   TournamentChampion   61 non-null     object\n",
      " 10  Runner-up            61 non-null     object\n",
      " 11  TeamLaunch           61 non-null     object\n",
      " 12  HighestPositionHeld  61 non-null     int64 \n",
      "dtypes: int64(2), object(11)\n",
      "memory usage: 6.3+ KB\n"
     ]
    }
   ],
   "source": [
    "#everything except Tournament is of type object\n",
    "teams.info()"
   ]
  },
  {
   "cell_type": "code",
   "execution_count": 15,
   "id": "1802670b",
   "metadata": {},
   "outputs": [
    {
     "data": {
      "text/html": [
       "<div>\n",
       "<style scoped>\n",
       "    .dataframe tbody tr th:only-of-type {\n",
       "        vertical-align: middle;\n",
       "    }\n",
       "\n",
       "    .dataframe tbody tr th {\n",
       "        vertical-align: top;\n",
       "    }\n",
       "\n",
       "    .dataframe thead th {\n",
       "        text-align: right;\n",
       "    }\n",
       "</style>\n",
       "<table border=\"1\" class=\"dataframe\">\n",
       "  <thead>\n",
       "    <tr style=\"text-align: right;\">\n",
       "      <th></th>\n",
       "      <th>Team</th>\n",
       "      <th>Tournament</th>\n",
       "      <th>Score</th>\n",
       "      <th>PlayedGames</th>\n",
       "      <th>WonGames</th>\n",
       "      <th>DrawnGames</th>\n",
       "      <th>LostGames</th>\n",
       "      <th>BasketScored</th>\n",
       "      <th>BasketGiven</th>\n",
       "      <th>TournamentChampion</th>\n",
       "      <th>Runner-up</th>\n",
       "      <th>TeamLaunch</th>\n",
       "      <th>HighestPositionHeld</th>\n",
       "    </tr>\n",
       "  </thead>\n",
       "  <tbody>\n",
       "    <tr>\n",
       "      <th>60</th>\n",
       "      <td>Team 61</td>\n",
       "      <td>1</td>\n",
       "      <td>-</td>\n",
       "      <td>-</td>\n",
       "      <td>-</td>\n",
       "      <td>-</td>\n",
       "      <td>-</td>\n",
       "      <td>-</td>\n",
       "      <td>-</td>\n",
       "      <td>-</td>\n",
       "      <td>-</td>\n",
       "      <td>2017~18</td>\n",
       "      <td>9</td>\n",
       "    </tr>\n",
       "  </tbody>\n",
       "</table>\n",
       "</div>"
      ],
      "text/plain": [
       "       Team  Tournament Score PlayedGames WonGames DrawnGames LostGames  \\\n",
       "60  Team 61           1     -           -        -          -         -   \n",
       "\n",
       "   BasketScored BasketGiven TournamentChampion Runner-up TeamLaunch  \\\n",
       "60            -           -                  -         -    2017~18   \n",
       "\n",
       "    HighestPositionHeld  \n",
       "60                    9  "
      ]
     },
     "execution_count": 15,
     "metadata": {},
     "output_type": "execute_result"
    }
   ],
   "source": [
    "# team 61 has multiple empty values\n",
    "teams[teams[\"Score\"]==\"-\"]"
   ]
  },
  {
   "cell_type": "code",
   "execution_count": 16,
   "id": "fdad1323",
   "metadata": {},
   "outputs": [],
   "source": [
    "#we drop row with index 60\n",
    "teams.drop(60,inplace=True)"
   ]
  },
  {
   "cell_type": "code",
   "execution_count": 17,
   "id": "655a9c83",
   "metadata": {},
   "outputs": [],
   "source": [
    "#change the values in tournamentchampion and runner-up '-' to 0\n",
    "teams = teams.replace('-',0)"
   ]
  },
  {
   "cell_type": "code",
   "execution_count": 18,
   "id": "ab9c916a",
   "metadata": {},
   "outputs": [],
   "source": [
    "#convert columns with object type to integer type\n",
    "for i in teams.columns[2:-2]:\n",
    "    teams[i] = teams[i].astype(np.int64)"
   ]
  },
  {
   "cell_type": "code",
   "execution_count": 19,
   "id": "5ec651b0",
   "metadata": {},
   "outputs": [
    {
     "name": "stdout",
     "output_type": "stream",
     "text": [
      "<class 'pandas.core.frame.DataFrame'>\n",
      "RangeIndex: 60 entries, 0 to 59\n",
      "Data columns (total 13 columns):\n",
      " #   Column               Non-Null Count  Dtype \n",
      "---  ------               --------------  ----- \n",
      " 0   Team                 60 non-null     object\n",
      " 1   Tournament           60 non-null     int64 \n",
      " 2   Score                60 non-null     int64 \n",
      " 3   PlayedGames          60 non-null     int64 \n",
      " 4   WonGames             60 non-null     int64 \n",
      " 5   DrawnGames           60 non-null     int64 \n",
      " 6   LostGames            60 non-null     int64 \n",
      " 7   BasketScored         60 non-null     int64 \n",
      " 8   BasketGiven          60 non-null     int64 \n",
      " 9   TournamentChampion   60 non-null     int64 \n",
      " 10  Runner-up            60 non-null     int64 \n",
      " 11  TeamLaunch           60 non-null     object\n",
      " 12  HighestPositionHeld  60 non-null     int64 \n",
      "dtypes: int64(11), object(2)\n",
      "memory usage: 6.2+ KB\n"
     ]
    }
   ],
   "source": [
    "# all columns except team launch is int type and ready for analysis\n",
    "teams.info()"
   ]
  },
  {
   "cell_type": "code",
   "execution_count": 20,
   "id": "8b535245",
   "metadata": {},
   "outputs": [
    {
     "data": {
      "text/plain": [
       "array(['1929', '1931to32', '1934-35', '1939-40', '1932-33', '1941to42',\n",
       "       '1948-49', '1944_45', '1935-36', '1949_50', '1933to34', '1960-61',\n",
       "       '1951-52', '1998-99', '1941-42', '1977-78', '1959-60', '2004to05',\n",
       "       '1961-62', '1940-41', '1930-31', '1963-64', '1974-75', '1943-44',\n",
       "       '1987-88', '1991_92', '2007-08', '1962-63', '1994-95', '1978-79',\n",
       "       '1971-72', '1999to00', '2014-15', '1990-91', '1947-48', '1996-97',\n",
       "       '1995-96', '1945-46', '1953-54', '1979-80', '1950-51', '2016_17',\n",
       "       '2009-10', '1956-57', '1951~52', '1955-56'], dtype=object)"
      ]
     },
     "execution_count": 20,
     "metadata": {},
     "output_type": "execute_result"
    }
   ],
   "source": [
    "#checking unique values of feature teamLaunch\n",
    "teams.TeamLaunch.unique()"
   ]
  },
  {
   "cell_type": "code",
   "execution_count": 21,
   "id": "3a051779",
   "metadata": {},
   "outputs": [],
   "source": [
    "# replace the date launch with a single data so it can be used in analysis\n",
    "teams.TeamLaunch = teams.TeamLaunch.map(lambda x: x[:4])"
   ]
  },
  {
   "cell_type": "code",
   "execution_count": 22,
   "id": "87ac9134",
   "metadata": {},
   "outputs": [
    {
     "data": {
      "text/plain": [
       "array(['1929', '1931', '1934', '1939', '1932', '1941', '1948', '1944',\n",
       "       '1935', '1949', '1933', '1960', '1951', '1998', '1977', '1959',\n",
       "       '2004', '1961', '1940', '1930', '1963', '1974', '1943', '1987',\n",
       "       '1991', '2007', '1962', '1994', '1978', '1971', '1999', '2014',\n",
       "       '1990', '1947', '1996', '1995', '1945', '1953', '1979', '1950',\n",
       "       '2016', '2009', '1956', '1955'], dtype=object)"
      ]
     },
     "execution_count": 22,
     "metadata": {},
     "output_type": "execute_result"
    }
   ],
   "source": [
    "teams.TeamLaunch.unique()"
   ]
  },
  {
   "cell_type": "code",
   "execution_count": 23,
   "id": "b5cf706b",
   "metadata": {},
   "outputs": [
    {
     "data": {
      "text/plain": [
       "Team                   0\n",
       "Tournament             0\n",
       "Score                  0\n",
       "PlayedGames            0\n",
       "WonGames               0\n",
       "DrawnGames             0\n",
       "LostGames              0\n",
       "BasketScored           0\n",
       "BasketGiven            0\n",
       "TournamentChampion     0\n",
       "Runner-up              0\n",
       "TeamLaunch             0\n",
       "HighestPositionHeld    0\n",
       "dtype: int64"
      ]
     },
     "execution_count": 23,
     "metadata": {},
     "output_type": "execute_result"
    }
   ],
   "source": [
    "#checking for null values in any of the columns\n",
    "teams.isnull().sum()"
   ]
  },
  {
   "cell_type": "markdown",
   "id": "3d2e3e68",
   "metadata": {},
   "source": [
    "### Basketball dataset ready as final dataset for analysis - "
   ]
  },
  {
   "cell_type": "code",
   "execution_count": 24,
   "id": "c621b0bf",
   "metadata": {},
   "outputs": [],
   "source": [
    "final_teams = teams.copy()"
   ]
  },
  {
   "cell_type": "markdown",
   "id": "f48f4b2a",
   "metadata": {},
   "source": [
    "<h3>Part 2 Q2 </h3>\n",
    "<h4>Perform detailed statistical analysis and EDA using univariate, \n",
    "bi-variate and multivariate EDA techniques to get data driven \n",
    "insights on recommending which teams they can approach \n",
    "which will be a deal win for them. Also, as a data and statistics \n",
    "expert you have to develop a detailed performance report \n",
    "using this data.</h4>"
   ]
  },
  {
   "cell_type": "code",
   "execution_count": 25,
   "id": "ff17a3fe",
   "metadata": {},
   "outputs": [
    {
     "data": {
      "text/html": [
       "<div>\n",
       "<style scoped>\n",
       "    .dataframe tbody tr th:only-of-type {\n",
       "        vertical-align: middle;\n",
       "    }\n",
       "\n",
       "    .dataframe tbody tr th {\n",
       "        vertical-align: top;\n",
       "    }\n",
       "\n",
       "    .dataframe thead th {\n",
       "        text-align: right;\n",
       "    }\n",
       "</style>\n",
       "<table border=\"1\" class=\"dataframe\">\n",
       "  <thead>\n",
       "    <tr style=\"text-align: right;\">\n",
       "      <th></th>\n",
       "      <th>Team</th>\n",
       "      <th>Tournament</th>\n",
       "      <th>Score</th>\n",
       "      <th>PlayedGames</th>\n",
       "      <th>WonGames</th>\n",
       "      <th>DrawnGames</th>\n",
       "      <th>LostGames</th>\n",
       "      <th>BasketScored</th>\n",
       "      <th>BasketGiven</th>\n",
       "      <th>TournamentChampion</th>\n",
       "      <th>Runner-up</th>\n",
       "      <th>TeamLaunch</th>\n",
       "      <th>HighestPositionHeld</th>\n",
       "    </tr>\n",
       "  </thead>\n",
       "  <tbody>\n",
       "    <tr>\n",
       "      <th>0</th>\n",
       "      <td>Team 1</td>\n",
       "      <td>86</td>\n",
       "      <td>4385</td>\n",
       "      <td>2762</td>\n",
       "      <td>1647</td>\n",
       "      <td>552</td>\n",
       "      <td>563</td>\n",
       "      <td>5947</td>\n",
       "      <td>3140</td>\n",
       "      <td>33</td>\n",
       "      <td>23</td>\n",
       "      <td>1929</td>\n",
       "      <td>1</td>\n",
       "    </tr>\n",
       "    <tr>\n",
       "      <th>1</th>\n",
       "      <td>Team 2</td>\n",
       "      <td>86</td>\n",
       "      <td>4262</td>\n",
       "      <td>2762</td>\n",
       "      <td>1581</td>\n",
       "      <td>573</td>\n",
       "      <td>608</td>\n",
       "      <td>5900</td>\n",
       "      <td>3114</td>\n",
       "      <td>25</td>\n",
       "      <td>25</td>\n",
       "      <td>1929</td>\n",
       "      <td>1</td>\n",
       "    </tr>\n",
       "    <tr>\n",
       "      <th>2</th>\n",
       "      <td>Team 3</td>\n",
       "      <td>80</td>\n",
       "      <td>3442</td>\n",
       "      <td>2614</td>\n",
       "      <td>1241</td>\n",
       "      <td>598</td>\n",
       "      <td>775</td>\n",
       "      <td>4534</td>\n",
       "      <td>3309</td>\n",
       "      <td>10</td>\n",
       "      <td>8</td>\n",
       "      <td>1929</td>\n",
       "      <td>1</td>\n",
       "    </tr>\n",
       "    <tr>\n",
       "      <th>3</th>\n",
       "      <td>Team 4</td>\n",
       "      <td>82</td>\n",
       "      <td>3386</td>\n",
       "      <td>2664</td>\n",
       "      <td>1187</td>\n",
       "      <td>616</td>\n",
       "      <td>861</td>\n",
       "      <td>4398</td>\n",
       "      <td>3469</td>\n",
       "      <td>6</td>\n",
       "      <td>6</td>\n",
       "      <td>1931</td>\n",
       "      <td>1</td>\n",
       "    </tr>\n",
       "    <tr>\n",
       "      <th>4</th>\n",
       "      <td>Team 5</td>\n",
       "      <td>86</td>\n",
       "      <td>3368</td>\n",
       "      <td>2762</td>\n",
       "      <td>1209</td>\n",
       "      <td>633</td>\n",
       "      <td>920</td>\n",
       "      <td>4631</td>\n",
       "      <td>3700</td>\n",
       "      <td>8</td>\n",
       "      <td>7</td>\n",
       "      <td>1929</td>\n",
       "      <td>1</td>\n",
       "    </tr>\n",
       "    <tr>\n",
       "      <th>5</th>\n",
       "      <td>Team 6</td>\n",
       "      <td>73</td>\n",
       "      <td>2819</td>\n",
       "      <td>2408</td>\n",
       "      <td>990</td>\n",
       "      <td>531</td>\n",
       "      <td>887</td>\n",
       "      <td>3680</td>\n",
       "      <td>3373</td>\n",
       "      <td>1</td>\n",
       "      <td>4</td>\n",
       "      <td>1934</td>\n",
       "      <td>1</td>\n",
       "    </tr>\n",
       "    <tr>\n",
       "      <th>6</th>\n",
       "      <td>Team 7</td>\n",
       "      <td>82</td>\n",
       "      <td>2792</td>\n",
       "      <td>2626</td>\n",
       "      <td>948</td>\n",
       "      <td>608</td>\n",
       "      <td>1070</td>\n",
       "      <td>3609</td>\n",
       "      <td>3889</td>\n",
       "      <td>0</td>\n",
       "      <td>0</td>\n",
       "      <td>1929</td>\n",
       "      <td>3</td>\n",
       "    </tr>\n",
       "    <tr>\n",
       "      <th>7</th>\n",
       "      <td>Team 8</td>\n",
       "      <td>70</td>\n",
       "      <td>2573</td>\n",
       "      <td>2302</td>\n",
       "      <td>864</td>\n",
       "      <td>577</td>\n",
       "      <td>861</td>\n",
       "      <td>3228</td>\n",
       "      <td>3230</td>\n",
       "      <td>2</td>\n",
       "      <td>3</td>\n",
       "      <td>1929</td>\n",
       "      <td>1</td>\n",
       "    </tr>\n",
       "    <tr>\n",
       "      <th>8</th>\n",
       "      <td>Team 9</td>\n",
       "      <td>58</td>\n",
       "      <td>2109</td>\n",
       "      <td>1986</td>\n",
       "      <td>698</td>\n",
       "      <td>522</td>\n",
       "      <td>766</td>\n",
       "      <td>2683</td>\n",
       "      <td>2847</td>\n",
       "      <td>0</td>\n",
       "      <td>1</td>\n",
       "      <td>1939</td>\n",
       "      <td>2</td>\n",
       "    </tr>\n",
       "    <tr>\n",
       "      <th>9</th>\n",
       "      <td>Team 10</td>\n",
       "      <td>51</td>\n",
       "      <td>1884</td>\n",
       "      <td>1728</td>\n",
       "      <td>606</td>\n",
       "      <td>440</td>\n",
       "      <td>682</td>\n",
       "      <td>2159</td>\n",
       "      <td>2492</td>\n",
       "      <td>1</td>\n",
       "      <td>0</td>\n",
       "      <td>1932</td>\n",
       "      <td>1</td>\n",
       "    </tr>\n",
       "  </tbody>\n",
       "</table>\n",
       "</div>"
      ],
      "text/plain": [
       "      Team  Tournament  Score  PlayedGames  WonGames  DrawnGames  LostGames  \\\n",
       "0   Team 1          86   4385         2762      1647         552        563   \n",
       "1   Team 2          86   4262         2762      1581         573        608   \n",
       "2   Team 3          80   3442         2614      1241         598        775   \n",
       "3   Team 4          82   3386         2664      1187         616        861   \n",
       "4   Team 5          86   3368         2762      1209         633        920   \n",
       "5   Team 6          73   2819         2408       990         531        887   \n",
       "6   Team 7          82   2792         2626       948         608       1070   \n",
       "7   Team 8          70   2573         2302       864         577        861   \n",
       "8   Team 9          58   2109         1986       698         522        766   \n",
       "9  Team 10          51   1884         1728       606         440        682   \n",
       "\n",
       "   BasketScored  BasketGiven  TournamentChampion  Runner-up TeamLaunch  \\\n",
       "0          5947         3140                  33         23       1929   \n",
       "1          5900         3114                  25         25       1929   \n",
       "2          4534         3309                  10          8       1929   \n",
       "3          4398         3469                   6          6       1931   \n",
       "4          4631         3700                   8          7       1929   \n",
       "5          3680         3373                   1          4       1934   \n",
       "6          3609         3889                   0          0       1929   \n",
       "7          3228         3230                   2          3       1929   \n",
       "8          2683         2847                   0          1       1939   \n",
       "9          2159         2492                   1          0       1932   \n",
       "\n",
       "   HighestPositionHeld  \n",
       "0                    1  \n",
       "1                    1  \n",
       "2                    1  \n",
       "3                    1  \n",
       "4                    1  \n",
       "5                    1  \n",
       "6                    3  \n",
       "7                    1  \n",
       "8                    2  \n",
       "9                    1  "
      ]
     },
     "execution_count": 25,
     "metadata": {},
     "output_type": "execute_result"
    }
   ],
   "source": [
    "final_teams.head(10)"
   ]
  },
  {
   "cell_type": "code",
   "execution_count": 26,
   "id": "9be59dea",
   "metadata": {},
   "outputs": [
    {
     "data": {
      "text/html": [
       "<div>\n",
       "<style scoped>\n",
       "    .dataframe tbody tr th:only-of-type {\n",
       "        vertical-align: middle;\n",
       "    }\n",
       "\n",
       "    .dataframe tbody tr th {\n",
       "        vertical-align: top;\n",
       "    }\n",
       "\n",
       "    .dataframe thead th {\n",
       "        text-align: right;\n",
       "    }\n",
       "</style>\n",
       "<table border=\"1\" class=\"dataframe\">\n",
       "  <thead>\n",
       "    <tr style=\"text-align: right;\">\n",
       "      <th></th>\n",
       "      <th>Tournament</th>\n",
       "      <th>Score</th>\n",
       "      <th>PlayedGames</th>\n",
       "      <th>WonGames</th>\n",
       "      <th>DrawnGames</th>\n",
       "      <th>LostGames</th>\n",
       "      <th>BasketScored</th>\n",
       "      <th>BasketGiven</th>\n",
       "      <th>TournamentChampion</th>\n",
       "      <th>Runner-up</th>\n",
       "      <th>HighestPositionHeld</th>\n",
       "    </tr>\n",
       "  </thead>\n",
       "  <tbody>\n",
       "    <tr>\n",
       "      <th>count</th>\n",
       "      <td>60.000000</td>\n",
       "      <td>60.000000</td>\n",
       "      <td>60.000000</td>\n",
       "      <td>60.000000</td>\n",
       "      <td>60.000000</td>\n",
       "      <td>60.000000</td>\n",
       "      <td>60.000000</td>\n",
       "      <td>60.000000</td>\n",
       "      <td>60.00000</td>\n",
       "      <td>60.000000</td>\n",
       "      <td>60.000000</td>\n",
       "    </tr>\n",
       "    <tr>\n",
       "      <th>mean</th>\n",
       "      <td>24.383333</td>\n",
       "      <td>916.450000</td>\n",
       "      <td>810.100000</td>\n",
       "      <td>309.033333</td>\n",
       "      <td>192.083333</td>\n",
       "      <td>308.816667</td>\n",
       "      <td>1159.350000</td>\n",
       "      <td>1159.233333</td>\n",
       "      <td>1.45000</td>\n",
       "      <td>1.433333</td>\n",
       "      <td>7.050000</td>\n",
       "    </tr>\n",
       "    <tr>\n",
       "      <th>std</th>\n",
       "      <td>26.884620</td>\n",
       "      <td>1138.342899</td>\n",
       "      <td>877.465393</td>\n",
       "      <td>408.481395</td>\n",
       "      <td>201.985508</td>\n",
       "      <td>294.508639</td>\n",
       "      <td>1512.063948</td>\n",
       "      <td>1163.946914</td>\n",
       "      <td>5.51554</td>\n",
       "      <td>4.574679</td>\n",
       "      <td>5.315232</td>\n",
       "    </tr>\n",
       "    <tr>\n",
       "      <th>min</th>\n",
       "      <td>1.000000</td>\n",
       "      <td>14.000000</td>\n",
       "      <td>30.000000</td>\n",
       "      <td>5.000000</td>\n",
       "      <td>4.000000</td>\n",
       "      <td>15.000000</td>\n",
       "      <td>34.000000</td>\n",
       "      <td>55.000000</td>\n",
       "      <td>0.00000</td>\n",
       "      <td>0.000000</td>\n",
       "      <td>1.000000</td>\n",
       "    </tr>\n",
       "    <tr>\n",
       "      <th>25%</th>\n",
       "      <td>4.000000</td>\n",
       "      <td>104.250000</td>\n",
       "      <td>115.500000</td>\n",
       "      <td>34.750000</td>\n",
       "      <td>26.250000</td>\n",
       "      <td>62.750000</td>\n",
       "      <td>154.500000</td>\n",
       "      <td>236.000000</td>\n",
       "      <td>0.00000</td>\n",
       "      <td>0.000000</td>\n",
       "      <td>3.000000</td>\n",
       "    </tr>\n",
       "    <tr>\n",
       "      <th>50%</th>\n",
       "      <td>12.000000</td>\n",
       "      <td>395.500000</td>\n",
       "      <td>424.500000</td>\n",
       "      <td>124.000000</td>\n",
       "      <td>98.500000</td>\n",
       "      <td>197.500000</td>\n",
       "      <td>444.000000</td>\n",
       "      <td>632.500000</td>\n",
       "      <td>0.00000</td>\n",
       "      <td>0.000000</td>\n",
       "      <td>6.000000</td>\n",
       "    </tr>\n",
       "    <tr>\n",
       "      <th>75%</th>\n",
       "      <td>39.000000</td>\n",
       "      <td>1360.500000</td>\n",
       "      <td>1345.500000</td>\n",
       "      <td>432.750000</td>\n",
       "      <td>331.500000</td>\n",
       "      <td>563.500000</td>\n",
       "      <td>1669.750000</td>\n",
       "      <td>2001.250000</td>\n",
       "      <td>0.00000</td>\n",
       "      <td>0.000000</td>\n",
       "      <td>10.000000</td>\n",
       "    </tr>\n",
       "    <tr>\n",
       "      <th>max</th>\n",
       "      <td>86.000000</td>\n",
       "      <td>4385.000000</td>\n",
       "      <td>2762.000000</td>\n",
       "      <td>1647.000000</td>\n",
       "      <td>633.000000</td>\n",
       "      <td>1070.000000</td>\n",
       "      <td>5947.000000</td>\n",
       "      <td>3889.000000</td>\n",
       "      <td>33.00000</td>\n",
       "      <td>25.000000</td>\n",
       "      <td>20.000000</td>\n",
       "    </tr>\n",
       "  </tbody>\n",
       "</table>\n",
       "</div>"
      ],
      "text/plain": [
       "       Tournament        Score  PlayedGames     WonGames  DrawnGames  \\\n",
       "count   60.000000    60.000000    60.000000    60.000000   60.000000   \n",
       "mean    24.383333   916.450000   810.100000   309.033333  192.083333   \n",
       "std     26.884620  1138.342899   877.465393   408.481395  201.985508   \n",
       "min      1.000000    14.000000    30.000000     5.000000    4.000000   \n",
       "25%      4.000000   104.250000   115.500000    34.750000   26.250000   \n",
       "50%     12.000000   395.500000   424.500000   124.000000   98.500000   \n",
       "75%     39.000000  1360.500000  1345.500000   432.750000  331.500000   \n",
       "max     86.000000  4385.000000  2762.000000  1647.000000  633.000000   \n",
       "\n",
       "         LostGames  BasketScored  BasketGiven  TournamentChampion  Runner-up  \\\n",
       "count    60.000000     60.000000    60.000000            60.00000  60.000000   \n",
       "mean    308.816667   1159.350000  1159.233333             1.45000   1.433333   \n",
       "std     294.508639   1512.063948  1163.946914             5.51554   4.574679   \n",
       "min      15.000000     34.000000    55.000000             0.00000   0.000000   \n",
       "25%      62.750000    154.500000   236.000000             0.00000   0.000000   \n",
       "50%     197.500000    444.000000   632.500000             0.00000   0.000000   \n",
       "75%     563.500000   1669.750000  2001.250000             0.00000   0.000000   \n",
       "max    1070.000000   5947.000000  3889.000000            33.00000  25.000000   \n",
       "\n",
       "       HighestPositionHeld  \n",
       "count            60.000000  \n",
       "mean              7.050000  \n",
       "std               5.315232  \n",
       "min               1.000000  \n",
       "25%               3.000000  \n",
       "50%               6.000000  \n",
       "75%              10.000000  \n",
       "max              20.000000  "
      ]
     },
     "execution_count": 26,
     "metadata": {},
     "output_type": "execute_result"
    }
   ],
   "source": [
    "#we can see the descriptive statistics using the describe function\n",
    "final_teams.describe()"
   ]
  },
  {
   "cell_type": "code",
   "execution_count": 27,
   "id": "74254b5a",
   "metadata": {},
   "outputs": [],
   "source": [
    "import matplotlib.pyplot as plt\n",
    "import seaborn as sns\n",
    "%matplotlib inline"
   ]
  },
  {
   "cell_type": "code",
   "execution_count": 28,
   "id": "71cbe5e0",
   "metadata": {},
   "outputs": [],
   "source": [
    "#Add two new columns to see which teams have a high win percent and low loss percent\n",
    "final_teams[\"WinPercent\"] = final_teams[\"WonGames\"]/final_teams[\"PlayedGames\"]\n",
    "final_teams[\"LossPercent\"]= final_teams[\"LostGames\"]/final_teams[\"PlayedGames\"]"
   ]
  },
  {
   "cell_type": "code",
   "execution_count": 29,
   "id": "d5932c14",
   "metadata": {},
   "outputs": [
    {
     "data": {
      "text/html": [
       "<div>\n",
       "<style scoped>\n",
       "    .dataframe tbody tr th:only-of-type {\n",
       "        vertical-align: middle;\n",
       "    }\n",
       "\n",
       "    .dataframe tbody tr th {\n",
       "        vertical-align: top;\n",
       "    }\n",
       "\n",
       "    .dataframe thead th {\n",
       "        text-align: right;\n",
       "    }\n",
       "</style>\n",
       "<table border=\"1\" class=\"dataframe\">\n",
       "  <thead>\n",
       "    <tr style=\"text-align: right;\">\n",
       "      <th></th>\n",
       "      <th>Team</th>\n",
       "      <th>Tournament</th>\n",
       "      <th>Score</th>\n",
       "      <th>PlayedGames</th>\n",
       "      <th>WonGames</th>\n",
       "      <th>DrawnGames</th>\n",
       "      <th>LostGames</th>\n",
       "      <th>BasketScored</th>\n",
       "      <th>BasketGiven</th>\n",
       "      <th>TournamentChampion</th>\n",
       "      <th>Runner-up</th>\n",
       "      <th>TeamLaunch</th>\n",
       "      <th>HighestPositionHeld</th>\n",
       "      <th>WinPercent</th>\n",
       "      <th>LossPercent</th>\n",
       "    </tr>\n",
       "  </thead>\n",
       "  <tbody>\n",
       "    <tr>\n",
       "      <th>0</th>\n",
       "      <td>Team 1</td>\n",
       "      <td>86</td>\n",
       "      <td>4385</td>\n",
       "      <td>2762</td>\n",
       "      <td>1647</td>\n",
       "      <td>552</td>\n",
       "      <td>563</td>\n",
       "      <td>5947</td>\n",
       "      <td>3140</td>\n",
       "      <td>33</td>\n",
       "      <td>23</td>\n",
       "      <td>1929</td>\n",
       "      <td>1</td>\n",
       "      <td>0.596307</td>\n",
       "      <td>0.203838</td>\n",
       "    </tr>\n",
       "    <tr>\n",
       "      <th>1</th>\n",
       "      <td>Team 2</td>\n",
       "      <td>86</td>\n",
       "      <td>4262</td>\n",
       "      <td>2762</td>\n",
       "      <td>1581</td>\n",
       "      <td>573</td>\n",
       "      <td>608</td>\n",
       "      <td>5900</td>\n",
       "      <td>3114</td>\n",
       "      <td>25</td>\n",
       "      <td>25</td>\n",
       "      <td>1929</td>\n",
       "      <td>1</td>\n",
       "      <td>0.572411</td>\n",
       "      <td>0.220130</td>\n",
       "    </tr>\n",
       "    <tr>\n",
       "      <th>2</th>\n",
       "      <td>Team 3</td>\n",
       "      <td>80</td>\n",
       "      <td>3442</td>\n",
       "      <td>2614</td>\n",
       "      <td>1241</td>\n",
       "      <td>598</td>\n",
       "      <td>775</td>\n",
       "      <td>4534</td>\n",
       "      <td>3309</td>\n",
       "      <td>10</td>\n",
       "      <td>8</td>\n",
       "      <td>1929</td>\n",
       "      <td>1</td>\n",
       "      <td>0.474751</td>\n",
       "      <td>0.296480</td>\n",
       "    </tr>\n",
       "    <tr>\n",
       "      <th>3</th>\n",
       "      <td>Team 4</td>\n",
       "      <td>82</td>\n",
       "      <td>3386</td>\n",
       "      <td>2664</td>\n",
       "      <td>1187</td>\n",
       "      <td>616</td>\n",
       "      <td>861</td>\n",
       "      <td>4398</td>\n",
       "      <td>3469</td>\n",
       "      <td>6</td>\n",
       "      <td>6</td>\n",
       "      <td>1931</td>\n",
       "      <td>1</td>\n",
       "      <td>0.445571</td>\n",
       "      <td>0.323198</td>\n",
       "    </tr>\n",
       "    <tr>\n",
       "      <th>4</th>\n",
       "      <td>Team 5</td>\n",
       "      <td>86</td>\n",
       "      <td>3368</td>\n",
       "      <td>2762</td>\n",
       "      <td>1209</td>\n",
       "      <td>633</td>\n",
       "      <td>920</td>\n",
       "      <td>4631</td>\n",
       "      <td>3700</td>\n",
       "      <td>8</td>\n",
       "      <td>7</td>\n",
       "      <td>1929</td>\n",
       "      <td>1</td>\n",
       "      <td>0.437726</td>\n",
       "      <td>0.333092</td>\n",
       "    </tr>\n",
       "  </tbody>\n",
       "</table>\n",
       "</div>"
      ],
      "text/plain": [
       "     Team  Tournament  Score  PlayedGames  WonGames  DrawnGames  LostGames  \\\n",
       "0  Team 1          86   4385         2762      1647         552        563   \n",
       "1  Team 2          86   4262         2762      1581         573        608   \n",
       "2  Team 3          80   3442         2614      1241         598        775   \n",
       "3  Team 4          82   3386         2664      1187         616        861   \n",
       "4  Team 5          86   3368         2762      1209         633        920   \n",
       "\n",
       "   BasketScored  BasketGiven  TournamentChampion  Runner-up TeamLaunch  \\\n",
       "0          5947         3140                  33         23       1929   \n",
       "1          5900         3114                  25         25       1929   \n",
       "2          4534         3309                  10          8       1929   \n",
       "3          4398         3469                   6          6       1931   \n",
       "4          4631         3700                   8          7       1929   \n",
       "\n",
       "   HighestPositionHeld  WinPercent  LossPercent  \n",
       "0                    1    0.596307     0.203838  \n",
       "1                    1    0.572411     0.220130  \n",
       "2                    1    0.474751     0.296480  \n",
       "3                    1    0.445571     0.323198  \n",
       "4                    1    0.437726     0.333092  "
      ]
     },
     "execution_count": 29,
     "metadata": {},
     "output_type": "execute_result"
    }
   ],
   "source": [
    "#additional two columns have been added to the end\n",
    "final_teams.head()"
   ]
  },
  {
   "cell_type": "code",
   "execution_count": 30,
   "id": "e03e7541",
   "metadata": {},
   "outputs": [
    {
     "name": "stderr",
     "output_type": "stream",
     "text": [
      "C:\\Users\\5590\\AppData\\Local\\Temp\\ipykernel_34008\\2089294252.py:1: FutureWarning: Indexing with multiple keys (implicitly converted to a tuple of keys) will be deprecated, use a list instead.\n",
      "  final_teams.groupby(by = \"TeamLaunch\")[\"TournamentChampion\",\"Runner-up\"].sum().T\n"
     ]
    },
    {
     "data": {
      "text/html": [
       "<div>\n",
       "<style scoped>\n",
       "    .dataframe tbody tr th:only-of-type {\n",
       "        vertical-align: middle;\n",
       "    }\n",
       "\n",
       "    .dataframe tbody tr th {\n",
       "        vertical-align: top;\n",
       "    }\n",
       "\n",
       "    .dataframe thead th {\n",
       "        text-align: right;\n",
       "    }\n",
       "</style>\n",
       "<table border=\"1\" class=\"dataframe\">\n",
       "  <thead>\n",
       "    <tr style=\"text-align: right;\">\n",
       "      <th>TeamLaunch</th>\n",
       "      <th>1929</th>\n",
       "      <th>1930</th>\n",
       "      <th>1931</th>\n",
       "      <th>1932</th>\n",
       "      <th>1933</th>\n",
       "      <th>1934</th>\n",
       "      <th>1935</th>\n",
       "      <th>1939</th>\n",
       "      <th>1940</th>\n",
       "      <th>1941</th>\n",
       "      <th>...</th>\n",
       "      <th>1994</th>\n",
       "      <th>1995</th>\n",
       "      <th>1996</th>\n",
       "      <th>1998</th>\n",
       "      <th>1999</th>\n",
       "      <th>2004</th>\n",
       "      <th>2007</th>\n",
       "      <th>2009</th>\n",
       "      <th>2014</th>\n",
       "      <th>2016</th>\n",
       "    </tr>\n",
       "  </thead>\n",
       "  <tbody>\n",
       "    <tr>\n",
       "      <th>TournamentChampion</th>\n",
       "      <td>78</td>\n",
       "      <td>0</td>\n",
       "      <td>6</td>\n",
       "      <td>1</td>\n",
       "      <td>0</td>\n",
       "      <td>1</td>\n",
       "      <td>0</td>\n",
       "      <td>0</td>\n",
       "      <td>0</td>\n",
       "      <td>1</td>\n",
       "      <td>...</td>\n",
       "      <td>0</td>\n",
       "      <td>0</td>\n",
       "      <td>0</td>\n",
       "      <td>0</td>\n",
       "      <td>0</td>\n",
       "      <td>0</td>\n",
       "      <td>0</td>\n",
       "      <td>0</td>\n",
       "      <td>0</td>\n",
       "      <td>0</td>\n",
       "    </tr>\n",
       "    <tr>\n",
       "      <th>Runner-up</th>\n",
       "      <td>67</td>\n",
       "      <td>0</td>\n",
       "      <td>6</td>\n",
       "      <td>0</td>\n",
       "      <td>0</td>\n",
       "      <td>4</td>\n",
       "      <td>0</td>\n",
       "      <td>1</td>\n",
       "      <td>0</td>\n",
       "      <td>5</td>\n",
       "      <td>...</td>\n",
       "      <td>0</td>\n",
       "      <td>0</td>\n",
       "      <td>0</td>\n",
       "      <td>1</td>\n",
       "      <td>0</td>\n",
       "      <td>0</td>\n",
       "      <td>0</td>\n",
       "      <td>0</td>\n",
       "      <td>0</td>\n",
       "      <td>0</td>\n",
       "    </tr>\n",
       "  </tbody>\n",
       "</table>\n",
       "<p>2 rows × 44 columns</p>\n",
       "</div>"
      ],
      "text/plain": [
       "TeamLaunch          1929  1930  1931  1932  1933  1934  1935  1939  1940  \\\n",
       "TournamentChampion    78     0     6     1     0     1     0     0     0   \n",
       "Runner-up             67     0     6     0     0     4     0     1     0   \n",
       "\n",
       "TeamLaunch          1941  ...  1994  1995  1996  1998  1999  2004  2007  2009  \\\n",
       "TournamentChampion     1  ...     0     0     0     0     0     0     0     0   \n",
       "Runner-up              5  ...     0     0     0     1     0     0     0     0   \n",
       "\n",
       "TeamLaunch          2014  2016  \n",
       "TournamentChampion     0     0  \n",
       "Runner-up              0     0  \n",
       "\n",
       "[2 rows x 44 columns]"
      ]
     },
     "execution_count": 30,
     "metadata": {},
     "output_type": "execute_result"
    }
   ],
   "source": [
    "final_teams.groupby(by = \"TeamLaunch\")[\"TournamentChampion\",\"Runner-up\"].sum().T"
   ]
  },
  {
   "cell_type": "code",
   "execution_count": 31,
   "id": "39dce8a9",
   "metadata": {},
   "outputs": [
    {
     "data": {
      "image/png": "[encoded data removed]",
      "text/plain": [
       "<Figure size 640x480 with 1 Axes>"
      ]
     },
     "metadata": {},
     "output_type": "display_data"
    }
   ],
   "source": [
    "sns.boxplot(x=\"Score\",data=final_teams)\n",
    "plt.title(\"Box-plot of 'Score'\");"
   ]
  },
  {
   "cell_type": "code",
   "execution_count": 32,
   "id": "06ccf704",
   "metadata": {},
   "outputs": [
    {
     "data": {
      "image/png": "[encoded data removed]",
      "text/plain": [
       "<Figure size 640x480 with 1 Axes>"
      ]
     },
     "metadata": {},
     "output_type": "display_data"
    }
   ],
   "source": [
    "sns.histplot(x=\"Tournament\",data=final_teams)\n",
    "plt.title(\"Tournaments Played\");"
   ]
  },
  {
   "cell_type": "code",
   "execution_count": 33,
   "id": "6bec0e7e",
   "metadata": {},
   "outputs": [
    {
     "data": {
      "image/png": "[encoded data removed]",
      "text/plain": [
       "<Figure size 1600x400 with 1 Axes>"
      ]
     },
     "metadata": {},
     "output_type": "display_data"
    }
   ],
   "source": [
    "fig,ax = plt.subplots(figsize = (16,4))\n",
    "sns.lineplot(x=\"TeamLaunch\",y=\"TournamentChampion\",data=final_teams)\n",
    "plt.xticks(rotation=75);"
   ]
  },
  {
   "cell_type": "code",
   "execution_count": 34,
   "id": "b7913e15",
   "metadata": {},
   "outputs": [
    {
     "data": {
      "text/plain": [
       "<Axes: xlabel='Score', ylabel='PlayedGames'>"
      ]
     },
     "execution_count": 34,
     "metadata": {},
     "output_type": "execute_result"
    },
    {
     "data": {
      "image/png": "[encoded data removed]",
      "text/plain": [
       "<Figure size 640x480 with 1 Axes>"
      ]
     },
     "metadata": {},
     "output_type": "display_data"
    }
   ],
   "source": [
    "sns.scatterplot(x=\"Score\",y=\"PlayedGames\",data=final_teams)"
   ]
  },
  {
   "cell_type": "code",
   "execution_count": 35,
   "id": "d9e7dd17",
   "metadata": {},
   "outputs": [
    {
     "data": {
      "image/png": "[encoded data removed]",
      "text/plain": [
       "<Figure size 2000x800 with 1 Axes>"
      ]
     },
     "metadata": {},
     "output_type": "display_data"
    }
   ],
   "source": [
    "fig,ax = plt.subplots(figsize = (20,8))\n",
    "sns.barplot(x=\"Team\", y =\"LossPercent\",data=final_teams)\n",
    "plt.xticks(rotation=75);"
   ]
  },
  {
   "cell_type": "code",
   "execution_count": 36,
   "id": "ecfc1854",
   "metadata": {},
   "outputs": [
    {
     "data": {
      "image/png": "[encoded data removed]",
      "text/plain": [
       "<Figure size 2000x800 with 1 Axes>"
      ]
     },
     "metadata": {},
     "output_type": "display_data"
    }
   ],
   "source": [
    "fig,ax = plt.subplots(figsize=(20,8))\n",
    "sns.barplot(x=\"Team\",y=\"WinPercent\",data=final_teams)\n",
    "plt.xticks(rotation=75);"
   ]
  },
  {
   "cell_type": "markdown",
   "id": "6dc6ef59",
   "metadata": {},
   "source": [
    "<h3>Report: </h3>\n",
    "<ul>\n",
    "    <li>The single box-plot indicating the score clearly shows signs of Outliers, meaning the data is skewed towards the early founded teams. And are more likely to attain deal wins\n",
    "    </li>\n",
    "    <li>The histogram for the Tournaments Played shows a right skewness meaning there are under experienced teams who haven't got enough exposure in competing\n",
    "    </li>\n",
    "    <li> We can see from the bar chart above that Team 1 and Team 2 have a win percent of above 0.5, signing them would be a deal win\n",
    "    </li>\n",
    "    <li>From the graph showing the loss percent we can also infer that Team 1 and Team 2 have a very low loss percent, meaning they are likely to win or draw the game\n",
    "    </li>\n",
    "    <li>The line graph indicates that there haven't been tournament champions significantly since 1929. The Team 1 and Team 2 that launched in 1929 have the most experience and continue to hold onto their winning slots. The groupby function shows that Tournament Champion or Runner up seldom go to any other team except the ones founded in 1929\n",
    "    </li>\n",
    "    <li>The descriptive statistics show heavy skewness in all of the features indicating that Team 1 to Team 10(the earliar founded teams) have shown signs of being Outliers. This tells us that they are overshadowing the other teams due to experience and results\n",
    "    </li>\n",
    " </ul>"
   ]
  },
  {
   "cell_type": "markdown",
   "id": "a4903b1b",
   "metadata": {},
   "source": [
    "<h3> Part 2 Q3</h3>\n",
    "<h4>Please include any improvements or suggestions to the \n",
    "association management on quality, quantity, variety, velocity, \n",
    "veracity etc. on the data points collected by the association to\n",
    "perform a better data analysis in future. At-least 1 suggestion \n",
    "for each point.\n",
    "</h4>"
   ]
  },
  {
   "cell_type": "markdown",
   "id": "ecef7b86",
   "metadata": {},
   "source": [
    "### Improvements"
   ]
  },
  {
   "cell_type": "markdown",
   "id": "a562f678",
   "metadata": {},
   "source": [
    "<ol>\n",
    "    <li>Quality of the data: The intended date column 'TeamLaunch' can be given as actual dates with month and day rather than to and from dates, which is hard to decipher.</li>\n",
    "    <li>Quantity of the data: More data towards each of the 60 teams would be better. And more teams with better stats would work great.</li>\n",
    "    <li>Variety of the data: Teams column needs data pertaining to yearly stats rather than date launched. It will improve the state of analysis. </li>\n",
    "    <li>Velocity of the data: Since there is a low amount of data the data comes at a satisfactory speed. However as suggested, if the quantity of the data increases, we expect high velocity of the data. </li>\n",
    "    <li>Veracity of the data: There are many insignificant data columns, while Score may be important it does not indicate what score it is. The highest position achieved also has low value as the tournament champion and runner up have already covered that section. </li>"
   ]
  },
  {
   "cell_type": "markdown",
   "id": "fd8b5a01",
   "metadata": {},
   "source": [
    "<h3>Part 3 Q2</h3>\n",
    "<h4>Data exploration. A. Check the datatypes of each attribute. B.\n",
    "Check for null values in the attributes.</h4>"
   ]
  },
  {
   "cell_type": "code",
   "execution_count": 37,
   "id": "3f8a565a",
   "metadata": {},
   "outputs": [
    {
     "name": "stdout",
     "output_type": "stream",
     "text": [
      "<class 'pandas.core.frame.DataFrame'>\n",
      "RangeIndex: 662 entries, 0 to 661\n",
      "Data columns (total 6 columns):\n",
      " #   Column          Non-Null Count  Dtype \n",
      "---  ------          --------------  ----- \n",
      " 0   Startup         662 non-null    object\n",
      " 1   Product         656 non-null    object\n",
      " 2   Funding         448 non-null    object\n",
      " 3   Event           662 non-null    object\n",
      " 4   Result          662 non-null    object\n",
      " 5   OperatingState  662 non-null    object\n",
      "dtypes: object(6)\n",
      "memory usage: 31.2+ KB\n"
     ]
    }
   ],
   "source": [
    "company_X = pd.read_csv(\"DS+-+Part3+-+CompanyX_EU.csv\")\n",
    "#A Check datatypes for each attribute\n",
    "company_X.info()"
   ]
  },
  {
   "cell_type": "code",
   "execution_count": 38,
   "id": "0a735dde",
   "metadata": {},
   "outputs": [
    {
     "data": {
      "text/plain": [
       "Startup             0\n",
       "Product             6\n",
       "Funding           214\n",
       "Event               0\n",
       "Result              0\n",
       "OperatingState      0\n",
       "dtype: int64"
      ]
     },
     "execution_count": 38,
     "metadata": {},
     "output_type": "execute_result"
    }
   ],
   "source": [
    "#B Check for null values in the attributes\n",
    "company_X.isnull().sum()"
   ]
  },
  {
   "cell_type": "markdown",
   "id": "78eb6f95",
   "metadata": {},
   "source": [
    "<h3>Part 3 Q3 A </h3>\n",
    "<h4>Drop the null values</h4>"
   ]
  },
  {
   "cell_type": "code",
   "execution_count": 39,
   "id": "6ae1385f",
   "metadata": {},
   "outputs": [],
   "source": [
    "company_X.dropna(inplace=True)"
   ]
  },
  {
   "cell_type": "code",
   "execution_count": 40,
   "id": "a737cabe",
   "metadata": {},
   "outputs": [
    {
     "data": {
      "text/plain": [
       "Startup           0\n",
       "Product           0\n",
       "Funding           0\n",
       "Event             0\n",
       "Result            0\n",
       "OperatingState    0\n",
       "dtype: int64"
      ]
     },
     "execution_count": 40,
     "metadata": {},
     "output_type": "execute_result"
    }
   ],
   "source": [
    "company_X.isnull().sum()"
   ]
  },
  {
   "cell_type": "markdown",
   "id": "eb566e77",
   "metadata": {},
   "source": [
    "<h3> Part 3 Q3 C</h3>\n",
    "<h4>Plot box plot for funds in millions</h4>"
   ]
  },
  {
   "cell_type": "code",
   "execution_count": 41,
   "id": "2c8f5df9",
   "metadata": {},
   "outputs": [
    {
     "data": {
      "text/html": [
       "<div>\n",
       "<style scoped>\n",
       "    .dataframe tbody tr th:only-of-type {\n",
       "        vertical-align: middle;\n",
       "    }\n",
       "\n",
       "    .dataframe tbody tr th {\n",
       "        vertical-align: top;\n",
       "    }\n",
       "\n",
       "    .dataframe thead th {\n",
       "        text-align: right;\n",
       "    }\n",
       "</style>\n",
       "<table border=\"1\" class=\"dataframe\">\n",
       "  <thead>\n",
       "    <tr style=\"text-align: right;\">\n",
       "      <th></th>\n",
       "      <th>Startup</th>\n",
       "      <th>Product</th>\n",
       "      <th>Funding</th>\n",
       "      <th>Event</th>\n",
       "      <th>Result</th>\n",
       "      <th>OperatingState</th>\n",
       "    </tr>\n",
       "  </thead>\n",
       "  <tbody>\n",
       "    <tr>\n",
       "      <th>1</th>\n",
       "      <td>3DLT</td>\n",
       "      <td>3dlt.com</td>\n",
       "      <td>$630K</td>\n",
       "      <td>Disrupt NYC 2013</td>\n",
       "      <td>Contestant</td>\n",
       "      <td>Closed</td>\n",
       "    </tr>\n",
       "    <tr>\n",
       "      <th>3</th>\n",
       "      <td>3Dprintler</td>\n",
       "      <td>3dprintler.com</td>\n",
       "      <td>$1M</td>\n",
       "      <td>Disrupt NY 2016</td>\n",
       "      <td>Audience choice</td>\n",
       "      <td>Operating</td>\n",
       "    </tr>\n",
       "    <tr>\n",
       "      <th>5</th>\n",
       "      <td>5to1</td>\n",
       "      <td>5to1.com</td>\n",
       "      <td>$19.3M</td>\n",
       "      <td>TC50 2009</td>\n",
       "      <td>Contestant</td>\n",
       "      <td>Acquired</td>\n",
       "    </tr>\n",
       "    <tr>\n",
       "      <th>6</th>\n",
       "      <td>8 Securities</td>\n",
       "      <td>8securities.com</td>\n",
       "      <td>$29M</td>\n",
       "      <td>Disrupt Beijing 2011</td>\n",
       "      <td>Finalist</td>\n",
       "      <td>Operating</td>\n",
       "    </tr>\n",
       "    <tr>\n",
       "      <th>10</th>\n",
       "      <td>AdhereTech</td>\n",
       "      <td>adheretech.com</td>\n",
       "      <td>$1.8M</td>\n",
       "      <td>Hardware Battlefield 2014</td>\n",
       "      <td>Contestant</td>\n",
       "      <td>Operating</td>\n",
       "    </tr>\n",
       "  </tbody>\n",
       "</table>\n",
       "</div>"
      ],
      "text/plain": [
       "         Startup          Product Funding                      Event  \\\n",
       "1           3DLT         3dlt.com   $630K           Disrupt NYC 2013   \n",
       "3     3Dprintler   3dprintler.com     $1M            Disrupt NY 2016   \n",
       "5           5to1         5to1.com  $19.3M                  TC50 2009   \n",
       "6   8 Securities  8securities.com    $29M       Disrupt Beijing 2011   \n",
       "10    AdhereTech   adheretech.com   $1.8M  Hardware Battlefield 2014   \n",
       "\n",
       "             Result OperatingState  \n",
       "1        Contestant         Closed  \n",
       "3   Audience choice      Operating  \n",
       "5        Contestant       Acquired  \n",
       "6          Finalist      Operating  \n",
       "10       Contestant      Operating  "
      ]
     },
     "execution_count": 41,
     "metadata": {},
     "output_type": "execute_result"
    }
   ],
   "source": [
    "company_X.head()"
   ]
  },
  {
   "cell_type": "code",
   "execution_count": 42,
   "id": "c870c499",
   "metadata": {},
   "outputs": [],
   "source": [
    "def convert(x):\n",
    "    if x[-1]==\"M\":\n",
    "        return float(x[1:-1])\n",
    "    else:\n",
    "        return float(x[1:-1])/1000\n",
    "\n",
    "#converting every value in funding to millions\n",
    "company_X[\"Funding(M)\"] = company_X.Funding.map(convert)"
   ]
  },
  {
   "cell_type": "code",
   "execution_count": 43,
   "id": "882df923",
   "metadata": {},
   "outputs": [
    {
     "data": {
      "text/html": [
       "<div>\n",
       "<style scoped>\n",
       "    .dataframe tbody tr th:only-of-type {\n",
       "        vertical-align: middle;\n",
       "    }\n",
       "\n",
       "    .dataframe tbody tr th {\n",
       "        vertical-align: top;\n",
       "    }\n",
       "\n",
       "    .dataframe thead th {\n",
       "        text-align: right;\n",
       "    }\n",
       "</style>\n",
       "<table border=\"1\" class=\"dataframe\">\n",
       "  <thead>\n",
       "    <tr style=\"text-align: right;\">\n",
       "      <th></th>\n",
       "      <th>Startup</th>\n",
       "      <th>Product</th>\n",
       "      <th>Funding</th>\n",
       "      <th>Event</th>\n",
       "      <th>Result</th>\n",
       "      <th>OperatingState</th>\n",
       "      <th>Funding(M)</th>\n",
       "    </tr>\n",
       "  </thead>\n",
       "  <tbody>\n",
       "    <tr>\n",
       "      <th>0</th>\n",
       "      <td>3DLT</td>\n",
       "      <td>3dlt.com</td>\n",
       "      <td>$630K</td>\n",
       "      <td>Disrupt NYC 2013</td>\n",
       "      <td>Contestant</td>\n",
       "      <td>Closed</td>\n",
       "      <td>0.63</td>\n",
       "    </tr>\n",
       "    <tr>\n",
       "      <th>1</th>\n",
       "      <td>3Dprintler</td>\n",
       "      <td>3dprintler.com</td>\n",
       "      <td>$1M</td>\n",
       "      <td>Disrupt NY 2016</td>\n",
       "      <td>Audience choice</td>\n",
       "      <td>Operating</td>\n",
       "      <td>1.00</td>\n",
       "    </tr>\n",
       "    <tr>\n",
       "      <th>2</th>\n",
       "      <td>5to1</td>\n",
       "      <td>5to1.com</td>\n",
       "      <td>$19.3M</td>\n",
       "      <td>TC50 2009</td>\n",
       "      <td>Contestant</td>\n",
       "      <td>Acquired</td>\n",
       "      <td>19.30</td>\n",
       "    </tr>\n",
       "    <tr>\n",
       "      <th>3</th>\n",
       "      <td>8 Securities</td>\n",
       "      <td>8securities.com</td>\n",
       "      <td>$29M</td>\n",
       "      <td>Disrupt Beijing 2011</td>\n",
       "      <td>Finalist</td>\n",
       "      <td>Operating</td>\n",
       "      <td>29.00</td>\n",
       "    </tr>\n",
       "    <tr>\n",
       "      <th>4</th>\n",
       "      <td>AdhereTech</td>\n",
       "      <td>adheretech.com</td>\n",
       "      <td>$1.8M</td>\n",
       "      <td>Hardware Battlefield 2014</td>\n",
       "      <td>Contestant</td>\n",
       "      <td>Operating</td>\n",
       "      <td>1.80</td>\n",
       "    </tr>\n",
       "  </tbody>\n",
       "</table>\n",
       "</div>"
      ],
      "text/plain": [
       "        Startup          Product Funding                      Event  \\\n",
       "0          3DLT         3dlt.com   $630K           Disrupt NYC 2013   \n",
       "1    3Dprintler   3dprintler.com     $1M            Disrupt NY 2016   \n",
       "2          5to1         5to1.com  $19.3M                  TC50 2009   \n",
       "3  8 Securities  8securities.com    $29M       Disrupt Beijing 2011   \n",
       "4    AdhereTech   adheretech.com   $1.8M  Hardware Battlefield 2014   \n",
       "\n",
       "            Result OperatingState  Funding(M)  \n",
       "0       Contestant         Closed        0.63  \n",
       "1  Audience choice      Operating        1.00  \n",
       "2       Contestant       Acquired       19.30  \n",
       "3         Finalist      Operating       29.00  \n",
       "4       Contestant      Operating        1.80  "
      ]
     },
     "execution_count": 43,
     "metadata": {},
     "output_type": "execute_result"
    }
   ],
   "source": [
    "company_X.reset_index(drop=True,inplace=True)\n",
    "company_X.head()"
   ]
  },
  {
   "cell_type": "code",
   "execution_count": 44,
   "id": "99654cc6",
   "metadata": {},
   "outputs": [
    {
     "data": {
      "text/plain": [
       "<Axes: xlabel='Funding(M)'>"
      ]
     },
     "execution_count": 44,
     "metadata": {},
     "output_type": "execute_result"
    },
    {
     "data": {
      "image/png": "[encoded data removed]",
      "text/plain": [
       "<Figure size 640x480 with 1 Axes>"
      ]
     },
     "metadata": {},
     "output_type": "display_data"
    }
   ],
   "source": [
    "#the boxplot shows heavy number of outliers\n",
    "sns.boxplot(x=\"Funding(M)\",data=company_X)"
   ]
  },
  {
   "cell_type": "code",
   "execution_count": 45,
   "id": "ffaae069",
   "metadata": {},
   "outputs": [
    {
     "data": {
      "text/plain": [
       "<Axes: xlabel='Funding(M)'>"
      ]
     },
     "execution_count": 45,
     "metadata": {},
     "output_type": "execute_result"
    },
    {
     "data": {
      "image/png": "[encoded data removed]",
      "text/plain": [
       "<Figure size 640x480 with 1 Axes>"
      ]
     },
     "metadata": {},
     "output_type": "display_data"
    }
   ],
   "source": [
    "#we can infer the boxplot without the heavy number of outliers\n",
    "sns.boxplot(x=\"Funding(M)\",data=company_X,showfliers=False)"
   ]
  },
  {
   "cell_type": "markdown",
   "id": "0a3dd2ef",
   "metadata": {},
   "source": [
    "<h3>Part 3 Q3 D</h3>\n",
    "<h4>Check the number of outliers greater than the upper fence</h4>"
   ]
  },
  {
   "cell_type": "code",
   "execution_count": 46,
   "id": "332376f3",
   "metadata": {},
   "outputs": [
    {
     "data": {
      "text/plain": [
       "59"
      ]
     },
     "execution_count": 46,
     "metadata": {},
     "output_type": "execute_result"
    }
   ],
   "source": [
    "Q3 = company_X[\"Funding(M)\"].quantile(0.75) \n",
    "Q1 = company_X[\"Funding(M)\"].quantile(0.25)\n",
    "IQR = Q3-Q1\n",
    "upper_fence = Q3+1.5*IQR\n",
    "\n",
    "#number of outliers can be given by,\n",
    "company_X[company_X[\"Funding(M)\"]>upper_fence].shape[0]"
   ]
  },
  {
   "cell_type": "markdown",
   "id": "156bb9fc",
   "metadata": {},
   "source": [
    "<h3> Part 3 Q3 E</h3>\n",
    "<h4>Check the frequency of the Operating State features classes</h4>"
   ]
  },
  {
   "cell_type": "code",
   "execution_count": 47,
   "id": "066c288b",
   "metadata": {},
   "outputs": [
    {
     "data": {
      "text/plain": [
       "array(['Closed', 'Operating', 'Acquired', 'Ipo'], dtype=object)"
      ]
     },
     "execution_count": 47,
     "metadata": {},
     "output_type": "execute_result"
    }
   ],
   "source": [
    "company_X.OperatingState.unique()"
   ]
  },
  {
   "cell_type": "code",
   "execution_count": 48,
   "id": "075d423b",
   "metadata": {},
   "outputs": [
    {
     "data": {
      "text/plain": [
       "OperatingState\n",
       "Acquired      66\n",
       "Closed        57\n",
       "Ipo            4\n",
       "Operating    319\n",
       "Name: OperatingState, dtype: int64"
      ]
     },
     "execution_count": 48,
     "metadata": {},
     "output_type": "execute_result"
    }
   ],
   "source": [
    "company_X.groupby(\"OperatingState\")[\"OperatingState\"].count()"
   ]
  },
  {
   "cell_type": "markdown",
   "id": "dda65475",
   "metadata": {},
   "source": [
    "<h3>Part 3 Q4 A</h3>\n",
    "<h4>Is there any significant difference between Funds raised by \n",
    "companies that are still operating vs companies that closed \n",
    "down?</h4>"
   ]
  },
  {
   "cell_type": "code",
   "execution_count": 49,
   "id": "e59aac82",
   "metadata": {},
   "outputs": [
    {
     "data": {
      "text/plain": [
       "OperatingState\n",
       "Acquired      872.0510\n",
       "Closed        185.7157\n",
       "Ipo           551.1000\n",
       "Operating    4380.8389\n",
       "Name: Funding(M), dtype: float64"
      ]
     },
     "execution_count": 49,
     "metadata": {},
     "output_type": "execute_result"
    }
   ],
   "source": [
    "# there is a big difference between funds raised by companies that are still operating vs companies that closed down\n",
    "company_X.groupby(\"OperatingState\")[\"Funding(M)\"].sum()"
   ]
  },
  {
   "cell_type": "markdown",
   "id": "39834655",
   "metadata": {},
   "source": [
    "<h3>Part 3 Q4 B</h3>\n",
    "<h4>Write the null hypothesis and alternative hypothesis</h4>"
   ]
  },
  {
   "cell_type": "markdown",
   "id": "0308aadb",
   "metadata": {},
   "source": [
    "Null hypothesis: There is no significant difference between funds raised by companies that are still operating vs companies that closed down\n",
    "\n",
    "Alternate hypothesis: There is a significant difference between funds raised by companies that are still operating vs companies that closed down\n",
    "\n",
    "For a level of significance of 0.05"
   ]
  },
  {
   "cell_type": "markdown",
   "id": "7f78c1ac",
   "metadata": {},
   "source": [
    "<h3>Part 3 Q4 C </h3>\n",
    "<h4>Test for significance and conclusion</h4>"
   ]
  },
  {
   "cell_type": "code",
   "execution_count": 50,
   "id": "90c46b95",
   "metadata": {},
   "outputs": [
    {
     "name": "stdout",
     "output_type": "stream",
     "text": [
      "Z-score for both sample differences is 3.95\n"
     ]
    }
   ],
   "source": [
    "mu1 = company_X[company_X[\"OperatingState\"]==\"Operating\"][\"Funding(M)\"].mean()\n",
    "std1 = company_X[company_X[\"OperatingState\"]==\"Operating\"][\"Funding(M)\"].std()\n",
    "n1=company_X[company_X[\"OperatingState\"]==\"Operating\"].shape[0]\n",
    "\n",
    "mu2 = company_X[company_X[\"OperatingState\"]==\"Closed\"][\"Funding(M)\"].mean()\n",
    "std2 = company_X[company_X[\"OperatingState\"]==\"Closed\"][\"Funding(M)\"].std()\n",
    "n2=company_X[company_X[\"OperatingState\"]==\"Closed\"].shape[0]\n",
    "\n",
    "zscore = (mu1-mu2)/np.sqrt(((std1**2)/n1) +((std2**2)/n2))\n",
    "print(f\"Z-score for both sample differences is {round(zscore,2)}\")"
   ]
  },
  {
   "cell_type": "markdown",
   "id": "86271a85",
   "metadata": {},
   "source": [
    "### z score is much greater than the critical value(1.96 for two tailed test for a level of significance of 0.05). Hence we reject the null hypothesis in favor of the alternate hypothesis"
   ]
  },
  {
   "cell_type": "markdown",
   "id": "1d636ebe",
   "metadata": {},
   "source": [
    "<h3> Part 3 Q4 D </h3>\n",
    "<h4>Make a copy of the original data frame</h4>"
   ]
  },
  {
   "cell_type": "code",
   "execution_count": 51,
   "id": "cef67d96",
   "metadata": {},
   "outputs": [],
   "source": [
    "company_X_copy = pd.read_csv(\"DS+-+Part3+-+CompanyX_EU.csv\").copy()"
   ]
  },
  {
   "cell_type": "code",
   "execution_count": 52,
   "id": "1281e791",
   "metadata": {},
   "outputs": [
    {
     "data": {
      "text/html": [
       "<div>\n",
       "<style scoped>\n",
       "    .dataframe tbody tr th:only-of-type {\n",
       "        vertical-align: middle;\n",
       "    }\n",
       "\n",
       "    .dataframe tbody tr th {\n",
       "        vertical-align: top;\n",
       "    }\n",
       "\n",
       "    .dataframe thead th {\n",
       "        text-align: right;\n",
       "    }\n",
       "</style>\n",
       "<table border=\"1\" class=\"dataframe\">\n",
       "  <thead>\n",
       "    <tr style=\"text-align: right;\">\n",
       "      <th></th>\n",
       "      <th>Startup</th>\n",
       "      <th>Product</th>\n",
       "      <th>Funding</th>\n",
       "      <th>Event</th>\n",
       "      <th>Result</th>\n",
       "      <th>OperatingState</th>\n",
       "    </tr>\n",
       "  </thead>\n",
       "  <tbody>\n",
       "    <tr>\n",
       "      <th>0</th>\n",
       "      <td>2600Hz</td>\n",
       "      <td>2600hz.com</td>\n",
       "      <td>NaN</td>\n",
       "      <td>Disrupt SF 2013</td>\n",
       "      <td>Contestant</td>\n",
       "      <td>Operating</td>\n",
       "    </tr>\n",
       "    <tr>\n",
       "      <th>1</th>\n",
       "      <td>3DLT</td>\n",
       "      <td>3dlt.com</td>\n",
       "      <td>$630K</td>\n",
       "      <td>Disrupt NYC 2013</td>\n",
       "      <td>Contestant</td>\n",
       "      <td>Closed</td>\n",
       "    </tr>\n",
       "    <tr>\n",
       "      <th>2</th>\n",
       "      <td>3DPrinterOS</td>\n",
       "      <td>3dprinteros.com</td>\n",
       "      <td>NaN</td>\n",
       "      <td>Disrupt SF 2016</td>\n",
       "      <td>Contestant</td>\n",
       "      <td>Operating</td>\n",
       "    </tr>\n",
       "    <tr>\n",
       "      <th>3</th>\n",
       "      <td>3Dprintler</td>\n",
       "      <td>3dprintler.com</td>\n",
       "      <td>$1M</td>\n",
       "      <td>Disrupt NY 2016</td>\n",
       "      <td>Audience choice</td>\n",
       "      <td>Operating</td>\n",
       "    </tr>\n",
       "    <tr>\n",
       "      <th>4</th>\n",
       "      <td>42 Technologies</td>\n",
       "      <td>42technologies.com</td>\n",
       "      <td>NaN</td>\n",
       "      <td>Disrupt NYC 2013</td>\n",
       "      <td>Contestant</td>\n",
       "      <td>Operating</td>\n",
       "    </tr>\n",
       "  </tbody>\n",
       "</table>\n",
       "</div>"
      ],
      "text/plain": [
       "           Startup             Product Funding             Event  \\\n",
       "0           2600Hz          2600hz.com     NaN   Disrupt SF 2013   \n",
       "1             3DLT            3dlt.com   $630K  Disrupt NYC 2013   \n",
       "2      3DPrinterOS     3dprinteros.com     NaN   Disrupt SF 2016   \n",
       "3       3Dprintler      3dprintler.com     $1M   Disrupt NY 2016   \n",
       "4  42 Technologies  42technologies.com     NaN  Disrupt NYC 2013   \n",
       "\n",
       "            Result OperatingState  \n",
       "0       Contestant      Operating  \n",
       "1       Contestant         Closed  \n",
       "2       Contestant      Operating  \n",
       "3  Audience choice      Operating  \n",
       "4       Contestant      Operating  "
      ]
     },
     "execution_count": 52,
     "metadata": {},
     "output_type": "execute_result"
    }
   ],
   "source": [
    "company_X_copy.head()"
   ]
  },
  {
   "cell_type": "markdown",
   "id": "b6187a28",
   "metadata": {},
   "source": [
    "<h3>Part 3 Q4 E</h3>\n",
    "<h4>Check frequency distribution of Result variables</h4>"
   ]
  },
  {
   "cell_type": "code",
   "execution_count": 53,
   "id": "84ab85d4",
   "metadata": {},
   "outputs": [
    {
     "data": {
      "text/plain": [
       "Result\n",
       "Audience choice     41\n",
       "Contestant         488\n",
       "Finalist            84\n",
       "Runner up           23\n",
       "Winner              26\n",
       "Name: Result, dtype: int64"
      ]
     },
     "execution_count": 53,
     "metadata": {},
     "output_type": "execute_result"
    }
   ],
   "source": [
    "company_X_copy.groupby(\"Result\")[\"Result\"].count()"
   ]
  },
  {
   "cell_type": "markdown",
   "id": "5ba9171c",
   "metadata": {},
   "source": [
    "<h3>Part 3 Q4 F</h3>\n",
    "<h4>Calculate percentage of winners that are still operating and \n",
    "percentage of contestants that are still operating </h4>"
   ]
  },
  {
   "cell_type": "code",
   "execution_count": 54,
   "id": "9cfdfe53",
   "metadata": {},
   "outputs": [
    {
     "name": "stdout",
     "output_type": "stream",
     "text": [
      "Percentage of winners that are still operating is 73.08%\n",
      "Percentage of contestants that are still operating is 68.03%\n"
     ]
    }
   ],
   "source": [
    "total_winners = 26\n",
    "total_contestants = 488\n",
    "winners_operating = company_X_copy[(company_X_copy[\"Result\"]==\"Winner\") & (company_X_copy[\"OperatingState\"]==\"Operating\")].shape[0]\n",
    "contestants_operating = company_X_copy[(company_X_copy[\"Result\"]==\"Contestant\") & (company_X_copy[\"OperatingState\"]==\"Operating\")].shape[0]\n",
    "\n",
    "print(f\"Percentage of winners that are still operating is {round(winners_operating/total_winners * 100,2)}%\")\n",
    "print(f\"Percentage of contestants that are still operating is {round(contestants_operating/total_contestants * 100,2)}%\")"
   ]
  },
  {
   "cell_type": "markdown",
   "id": "4b43ae93",
   "metadata": {},
   "source": [
    "<h3>Part 3 Q4 G</h3>\n",
    "<h4>Write your hypothesis comparing the proportion of companies \n",
    "that are operating between winners and contestants</h4>"
   ]
  },
  {
   "cell_type": "markdown",
   "id": "be18e6d0",
   "metadata": {},
   "source": [
    "Null hypothesis: The proportion of companies that are operating have no difference between winners and contestants\n",
    "\n",
    "Alternate Hypothesis: The proportion of companies that are operating have a difference between winners and contestants\n",
    "\n",
    "For a level of significance of 0.05"
   ]
  },
  {
   "cell_type": "code",
   "execution_count": 55,
   "id": "313df88d",
   "metadata": {},
   "outputs": [
    {
     "name": "stdout",
     "output_type": "stream",
     "text": [
      "Z - score for proportions is: 0.53\n"
     ]
    }
   ],
   "source": [
    "p1 = 0.73\n",
    "p2 = 0.68\n",
    "n1 = 26\n",
    "n2 = 488\n",
    "\n",
    "#first we calculate the total pooled proportion \n",
    "p = (p1*n1 + p2*n2)/(n1+n2)\n",
    "\n",
    "#now we calculate the z score\n",
    "zscore_prop = (p1-p2)/np.sqrt((p*(1-p))*((1/n1)+(1/n2)))\n",
    "                              \n",
    "print(f\"Z - score for proportions is: {round(zscore_prop,2)}\")"
   ]
  },
  {
   "cell_type": "markdown",
   "id": "9111c614",
   "metadata": {},
   "source": [
    "Conclusion: Since the z-score is within the critical value, we lack enough evidence and fail to reject the null hypothesis for level of significance of 0.05."
   ]
  },
  {
   "cell_type": "markdown",
   "id": "f8888fe9",
   "metadata": {},
   "source": [
    "<h3>Part 3 Q4 I </h3>\n",
    "<h4> Select only the Event that has ‘disrupt’ keyword from 2013 \n",
    "onwards.</h4>"
   ]
  },
  {
   "cell_type": "code",
   "execution_count": 56,
   "id": "7f09d994",
   "metadata": {},
   "outputs": [],
   "source": [
    "company_event = company_X_copy[company_X_copy[\"Event\"].str.contains(\"Disrupt\")]"
   ]
  },
  {
   "cell_type": "code",
   "execution_count": 57,
   "id": "c0a1881e",
   "metadata": {},
   "outputs": [
    {
     "data": {
      "text/html": [
       "<div>\n",
       "<style scoped>\n",
       "    .dataframe tbody tr th:only-of-type {\n",
       "        vertical-align: middle;\n",
       "    }\n",
       "\n",
       "    .dataframe tbody tr th {\n",
       "        vertical-align: top;\n",
       "    }\n",
       "\n",
       "    .dataframe thead th {\n",
       "        text-align: right;\n",
       "    }\n",
       "</style>\n",
       "<table border=\"1\" class=\"dataframe\">\n",
       "  <thead>\n",
       "    <tr style=\"text-align: right;\">\n",
       "      <th></th>\n",
       "      <th>Startup</th>\n",
       "      <th>Product</th>\n",
       "      <th>Funding</th>\n",
       "      <th>Event</th>\n",
       "      <th>Result</th>\n",
       "      <th>OperatingState</th>\n",
       "    </tr>\n",
       "  </thead>\n",
       "  <tbody>\n",
       "    <tr>\n",
       "      <th>0</th>\n",
       "      <td>2600Hz</td>\n",
       "      <td>2600hz.com</td>\n",
       "      <td>NaN</td>\n",
       "      <td>Disrupt SF 2013</td>\n",
       "      <td>Contestant</td>\n",
       "      <td>Operating</td>\n",
       "    </tr>\n",
       "    <tr>\n",
       "      <th>1</th>\n",
       "      <td>3DLT</td>\n",
       "      <td>3dlt.com</td>\n",
       "      <td>$630K</td>\n",
       "      <td>Disrupt NYC 2013</td>\n",
       "      <td>Contestant</td>\n",
       "      <td>Closed</td>\n",
       "    </tr>\n",
       "    <tr>\n",
       "      <th>2</th>\n",
       "      <td>3DPrinterOS</td>\n",
       "      <td>3dprinteros.com</td>\n",
       "      <td>NaN</td>\n",
       "      <td>Disrupt SF 2016</td>\n",
       "      <td>Contestant</td>\n",
       "      <td>Operating</td>\n",
       "    </tr>\n",
       "    <tr>\n",
       "      <th>3</th>\n",
       "      <td>3Dprintler</td>\n",
       "      <td>3dprintler.com</td>\n",
       "      <td>$1M</td>\n",
       "      <td>Disrupt NY 2016</td>\n",
       "      <td>Audience choice</td>\n",
       "      <td>Operating</td>\n",
       "    </tr>\n",
       "    <tr>\n",
       "      <th>4</th>\n",
       "      <td>42 Technologies</td>\n",
       "      <td>42technologies.com</td>\n",
       "      <td>NaN</td>\n",
       "      <td>Disrupt NYC 2013</td>\n",
       "      <td>Contestant</td>\n",
       "      <td>Operating</td>\n",
       "    </tr>\n",
       "    <tr>\n",
       "      <th>...</th>\n",
       "      <td>...</td>\n",
       "      <td>...</td>\n",
       "      <td>...</td>\n",
       "      <td>...</td>\n",
       "      <td>...</td>\n",
       "      <td>...</td>\n",
       "    </tr>\n",
       "    <tr>\n",
       "      <th>646</th>\n",
       "      <td>YayPay Inc</td>\n",
       "      <td>yaypay.com</td>\n",
       "      <td>$900K</td>\n",
       "      <td>Disrupt London 2015</td>\n",
       "      <td>Contestant</td>\n",
       "      <td>Operating</td>\n",
       "    </tr>\n",
       "    <tr>\n",
       "      <th>648</th>\n",
       "      <td>YOOBIC</td>\n",
       "      <td>yoobic.com</td>\n",
       "      <td>NaN</td>\n",
       "      <td>Disrupt London 2015</td>\n",
       "      <td>Finalist</td>\n",
       "      <td>Operating</td>\n",
       "    </tr>\n",
       "    <tr>\n",
       "      <th>653</th>\n",
       "      <td>ZAP!</td>\n",
       "      <td>zapreklam.com/</td>\n",
       "      <td>NaN</td>\n",
       "      <td>Disrupt EU 2014</td>\n",
       "      <td>Audience choice</td>\n",
       "      <td>Operating</td>\n",
       "    </tr>\n",
       "    <tr>\n",
       "      <th>656</th>\n",
       "      <td>Zenefits</td>\n",
       "      <td>zenefits.com</td>\n",
       "      <td>$583.6M</td>\n",
       "      <td>Disrupt NYC 2013</td>\n",
       "      <td>Finalist</td>\n",
       "      <td>Operating</td>\n",
       "    </tr>\n",
       "    <tr>\n",
       "      <th>660</th>\n",
       "      <td>Zula</td>\n",
       "      <td>zulaapp.com</td>\n",
       "      <td>$3.4M</td>\n",
       "      <td>Disrupt SF 2013</td>\n",
       "      <td>Audience choice</td>\n",
       "      <td>Operating</td>\n",
       "    </tr>\n",
       "  </tbody>\n",
       "</table>\n",
       "<p>276 rows × 6 columns</p>\n",
       "</div>"
      ],
      "text/plain": [
       "             Startup             Product  Funding                Event  \\\n",
       "0             2600Hz          2600hz.com      NaN      Disrupt SF 2013   \n",
       "1               3DLT            3dlt.com    $630K     Disrupt NYC 2013   \n",
       "2        3DPrinterOS     3dprinteros.com      NaN      Disrupt SF 2016   \n",
       "3         3Dprintler      3dprintler.com      $1M      Disrupt NY 2016   \n",
       "4    42 Technologies  42technologies.com      NaN     Disrupt NYC 2013   \n",
       "..               ...                 ...      ...                  ...   \n",
       "646       YayPay Inc          yaypay.com    $900K  Disrupt London 2015   \n",
       "648           YOOBIC          yoobic.com      NaN  Disrupt London 2015   \n",
       "653             ZAP!      zapreklam.com/      NaN      Disrupt EU 2014   \n",
       "656         Zenefits        zenefits.com  $583.6M     Disrupt NYC 2013   \n",
       "660             Zula         zulaapp.com    $3.4M      Disrupt SF 2013   \n",
       "\n",
       "              Result OperatingState  \n",
       "0         Contestant      Operating  \n",
       "1         Contestant         Closed  \n",
       "2         Contestant      Operating  \n",
       "3    Audience choice      Operating  \n",
       "4         Contestant      Operating  \n",
       "..               ...            ...  \n",
       "646       Contestant      Operating  \n",
       "648         Finalist      Operating  \n",
       "653  Audience choice      Operating  \n",
       "656         Finalist      Operating  \n",
       "660  Audience choice      Operating  \n",
       "\n",
       "[276 rows x 6 columns]"
      ]
     },
     "execution_count": 57,
     "metadata": {},
     "output_type": "execute_result"
    }
   ],
   "source": [
    "company_event[company_event[\"Event\"].apply(lambda x: int(x[-4:])>=2013)]"
   ]
  }
 ],
 "metadata": {
  "kernelspec": {
   "display_name": "Python 3 (ipykernel)",
   "language": "python",
   "name": "python3"
  },
  "language_info": {
   "codemirror_mode": {
    "name": "ipython",
    "version": 3
   },
   "file_extension": ".py",
   "mimetype": "text/x-python",
   "name": "python",
   "nbconvert_exporter": "python",
   "pygments_lexer": "ipython3",
   "version": "3.11.4"
  }
 },
 "nbformat": 4,
 "nbformat_minor": 5
}
